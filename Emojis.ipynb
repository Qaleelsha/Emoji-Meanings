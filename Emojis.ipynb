{
  "nbformat": 4,
  "nbformat_minor": 0,
  "metadata": {
    "colab": {
      "provenance": []
    },
    "kernelspec": {
      "name": "python3",
      "display_name": "Python 3"
    },
    "language_info": {
      "name": "python"
    }
  },
  "cells": [
    {
      "cell_type": "code",
      "execution_count": 9,
      "metadata": {
        "colab": {
          "base_uri": "https://localhost:8080/"
        },
        "id": "8MokQl4t8wmz",
        "outputId": "69125087-d75f-4c70-a460-1f2f83eb3879"
      },
      "outputs": [
        {
          "output_type": "stream",
          "name": "stdout",
          "text": [
            "Requirement already satisfied: emoji in /usr/local/lib/python3.11/dist-packages (2.14.1)\n"
          ]
        }
      ],
      "source": [
        "pip install emoji"
      ]
    },
    {
      "cell_type": "code",
      "source": [
        "import emoji\n",
        "demojized_text = emoji.demojize('It is a ❤️')\n",
        "print(demojized_text)"
      ],
      "metadata": {
        "colab": {
          "base_uri": "https://localhost:8080/"
        },
        "id": "wutk_aGa-N-y",
        "outputId": "b3048987-a82b-4d9a-c289-4f7ab972e4a0"
      },
      "execution_count": 11,
      "outputs": [
        {
          "output_type": "stream",
          "name": "stdout",
          "text": [
            "It is a :red_heart:\n"
          ]
        }
      ]
    },
    {
      "cell_type": "code",
      "source": [
        "demojized_text = emoji.demojize('It is a 🥹')\n",
        "print(demojized_text)"
      ],
      "metadata": {
        "colab": {
          "base_uri": "https://localhost:8080/"
        },
        "id": "HMG7gCSU-qKK",
        "outputId": "77161059-2dca-4aff-931c-0f630d9f7deb"
      },
      "execution_count": 18,
      "outputs": [
        {
          "output_type": "stream",
          "name": "stdout",
          "text": [
            "It is a :face_holding_back_tears:\n"
          ]
        }
      ]
    },
    {
      "cell_type": "code",
      "source": [
        "demojized_text = emoji.demojize('It is a 🫡')\n",
        "print(demojized_text)"
      ],
      "metadata": {
        "colab": {
          "base_uri": "https://localhost:8080/"
        },
        "id": "a8rXXHZ4-3ut",
        "outputId": "58aba0a7-cb33-4f61-804e-2aabbb7b383c"
      },
      "execution_count": 14,
      "outputs": [
        {
          "output_type": "stream",
          "name": "stdout",
          "text": [
            "It is a :saluting_face:\n"
          ]
        }
      ]
    },
    {
      "cell_type": "code",
      "source": [
        "demojized_text = emoji.demojize('It is a 🫠')\n",
        "print(demojized_text)"
      ],
      "metadata": {
        "colab": {
          "base_uri": "https://localhost:8080/"
        },
        "id": "xA11zjf2_Awe",
        "outputId": "62b4cf76-f408-4726-937d-e51e5ba3f566"
      },
      "execution_count": 15,
      "outputs": [
        {
          "output_type": "stream",
          "name": "stdout",
          "text": [
            "It is a :melting_face:\n"
          ]
        }
      ]
    },
    {
      "cell_type": "code",
      "source": [
        "demojized_text = emoji.demojize('It is a 👨🏻👨‍🦯11')\n",
        "print(demojized_text)"
      ],
      "metadata": {
        "colab": {
          "base_uri": "https://localhost:8080/"
        },
        "id": "gJs-JGF3_GmR",
        "outputId": "de958860-2455-4a80-894d-63d316abde8e"
      },
      "execution_count": 16,
      "outputs": [
        {
          "output_type": "stream",
          "name": "stdout",
          "text": [
            "It is a :man_with_white_cane_light_skin_tone:\n"
          ]
        }
      ]
    },
    {
      "cell_type": "code",
      "source": [
        "demojized_text = emoji.demojize('It is a 🫣')\n",
        "print(demojized_text)"
      ],
      "metadata": {
        "colab": {
          "base_uri": "https://localhost:8080/"
        },
        "id": "OHqqIuvV_RA1",
        "outputId": "3b297af3-7db1-4229-dbcf-607fb0b20ca8"
      },
      "execution_count": 19,
      "outputs": [
        {
          "output_type": "stream",
          "name": "stdout",
          "text": [
            "It is a :face_with_peeking_eye:\n"
          ]
        }
      ]
    },
    {
      "cell_type": "code",
      "source": [
        "demojized_text = emoji.demojize('It is a 🤪')\n",
        "print(demojized_text)"
      ],
      "metadata": {
        "colab": {
          "base_uri": "https://localhost:8080/"
        },
        "id": "_ciZtayE_5Tu",
        "outputId": "3043c14f-78bd-41d0-fb85-1d59b49e9b8a"
      },
      "execution_count": 20,
      "outputs": [
        {
          "output_type": "stream",
          "name": "stdout",
          "text": [
            "It is a :zany_face:\n"
          ]
        }
      ]
    },
    {
      "cell_type": "code",
      "source": [
        "demojized_text = emoji.demojize('It is a 🥲')\n",
        "print(demojized_text)"
      ],
      "metadata": {
        "colab": {
          "base_uri": "https://localhost:8080/"
        },
        "id": "egjcaK-v_-0x",
        "outputId": "8e1c8d92-5b2c-4afd-ad2f-6ae3b2ab6114"
      },
      "execution_count": 21,
      "outputs": [
        {
          "output_type": "stream",
          "name": "stdout",
          "text": [
            "It is a :smiling_face_with_tear:\n"
          ]
        }
      ]
    },
    {
      "cell_type": "code",
      "source": [
        "demojized_text = emoji.demojize('It is a 😇')\n",
        "print(demojized_text)"
      ],
      "metadata": {
        "colab": {
          "base_uri": "https://localhost:8080/"
        },
        "id": "MS9hdRv6ADNP",
        "outputId": "bc2856fc-f05e-4f4b-e194-fa2d4e33e0fe"
      },
      "execution_count": 22,
      "outputs": [
        {
          "output_type": "stream",
          "name": "stdout",
          "text": [
            "It is a :smiling_face_with_halo:\n"
          ]
        }
      ]
    },
    {
      "cell_type": "code",
      "source": [
        "demojized_text = emoji.demojize('It is a 🙂')\n",
        "print(demojized_text)"
      ],
      "metadata": {
        "colab": {
          "base_uri": "https://localhost:8080/"
        },
        "id": "ndkOIpSuAIVO",
        "outputId": "6f79a3e3-6dfb-4d62-e134-344e6eb13d6e"
      },
      "execution_count": 23,
      "outputs": [
        {
          "output_type": "stream",
          "name": "stdout",
          "text": [
            "It is a :slightly_smiling_face:\n"
          ]
        }
      ]
    },
    {
      "cell_type": "code",
      "source": [
        "demojized_text = emoji.demojize('It is a 🤷🏻‍♂️')\n",
        "print(demojized_text)"
      ],
      "metadata": {
        "colab": {
          "base_uri": "https://localhost:8080/"
        },
        "id": "HuJAZlMyAMix",
        "outputId": "3080dcd2-be8a-4d8c-a3c1-d99d6ab5df0e"
      },
      "execution_count": 24,
      "outputs": [
        {
          "output_type": "stream",
          "name": "stdout",
          "text": [
            "It is a :man_shrugging_light_skin_tone:\n"
          ]
        }
      ]
    },
    {
      "cell_type": "code",
      "source": [
        "demojized_text = emoji.demojize('It is a 🏃‍♂️')\n",
        "print(demojized_text)"
      ],
      "metadata": {
        "colab": {
          "base_uri": "https://localhost:8080/"
        },
        "id": "ZtOXEp5PAV5m",
        "outputId": "f2235371-cb2a-4851-de37-b3e2215f0d41"
      },
      "execution_count": 25,
      "outputs": [
        {
          "output_type": "stream",
          "name": "stdout",
          "text": [
            "It is a :man_running:\n"
          ]
        }
      ]
    },
    {
      "cell_type": "code",
      "source": [
        "demojized_text = emoji.demojize('It is a 😁')\n",
        "print(demojized_text)"
      ],
      "metadata": {
        "colab": {
          "base_uri": "https://localhost:8080/"
        },
        "id": "tgHQxlkrAkct",
        "outputId": "e86191f0-b32d-414e-d2f9-fc608d69fd23"
      },
      "execution_count": 26,
      "outputs": [
        {
          "output_type": "stream",
          "name": "stdout",
          "text": [
            "It is a :beaming_face_with_smiling_eyes:\n"
          ]
        }
      ]
    },
    {
      "cell_type": "code",
      "source": [
        "demojized_text = emoji.demojize('It is a 🤝')\n",
        "print(demojized_text)"
      ],
      "metadata": {
        "colab": {
          "base_uri": "https://localhost:8080/"
        },
        "id": "_RuES7ZcA2VH",
        "outputId": "ed0e6cf9-3197-41a5-fe9d-150b75402755"
      },
      "execution_count": 27,
      "outputs": [
        {
          "output_type": "stream",
          "name": "stdout",
          "text": [
            "It is a :handshake:\n"
          ]
        }
      ]
    },
    {
      "cell_type": "code",
      "source": [
        "demojized_text = emoji.demojize('It is a 😩 with 💕')\n",
        "print(demojized_text)"
      ],
      "metadata": {
        "colab": {
          "base_uri": "https://localhost:8080/"
        },
        "id": "UDMi_inlA6YY",
        "outputId": "376fb824-bd15-4c10-d4eb-3b0b546e20bb"
      },
      "execution_count": 30,
      "outputs": [
        {
          "output_type": "stream",
          "name": "stdout",
          "text": [
            "It is a :weary_face: with :two_hearts:\n"
          ]
        }
      ]
    },
    {
      "cell_type": "code",
      "source": [
        "demojized_text = emoji.demojize('It is a 🤖')\n",
        "print(demojized_text)"
      ],
      "metadata": {
        "colab": {
          "base_uri": "https://localhost:8080/"
        },
        "id": "hWp7blFXBUBq",
        "outputId": "3b427d6d-17e4-41fa-c4a5-6b1c83580a59"
      },
      "execution_count": 31,
      "outputs": [
        {
          "output_type": "stream",
          "name": "stdout",
          "text": [
            "It is a :robot:\n"
          ]
        }
      ]
    },
    {
      "cell_type": "code",
      "source": [
        "demojized_text = emoji.demojize('It is a 🙈')\n",
        "print(demojized_text)"
      ],
      "metadata": {
        "colab": {
          "base_uri": "https://localhost:8080/"
        },
        "id": "UFMflS7fBW0k",
        "outputId": "43922625-4270-42cd-e40d-a2a8b701571c"
      },
      "execution_count": 32,
      "outputs": [
        {
          "output_type": "stream",
          "name": "stdout",
          "text": [
            "It is a :see-no-evil_monkey:\n"
          ]
        }
      ]
    },
    {
      "cell_type": "code",
      "source": [
        "demojized_text = emoji.demojize('It is a 😑')\n",
        "print(demojized_text)"
      ],
      "metadata": {
        "colab": {
          "base_uri": "https://localhost:8080/"
        },
        "id": "SoJqtB7nBa-z",
        "outputId": "b3c2d6a1-a6e2-43a3-dd66-96e848b73290"
      },
      "execution_count": 33,
      "outputs": [
        {
          "output_type": "stream",
          "name": "stdout",
          "text": [
            "It is a :expressionless_face:\n"
          ]
        }
      ]
    },
    {
      "cell_type": "code",
      "source": [
        "demojized_text = emoji.demojize('It is a 😏')\n",
        "print(demojized_text)"
      ],
      "metadata": {
        "colab": {
          "base_uri": "https://localhost:8080/"
        },
        "id": "kB2LLktLBdhO",
        "outputId": "431bf2cb-017e-48b5-af9f-faea460f7aa2"
      },
      "execution_count": 34,
      "outputs": [
        {
          "output_type": "stream",
          "name": "stdout",
          "text": [
            "It is a :smirking_face:\n"
          ]
        }
      ]
    },
    {
      "cell_type": "code",
      "source": [
        "demojized_text = emoji.demojize('It is a 😎')\n",
        "print(demojized_text)"
      ],
      "metadata": {
        "colab": {
          "base_uri": "https://localhost:8080/"
        },
        "id": "zWXMDpqcBhuW",
        "outputId": "945f2e6e-a981-42ba-c2a2-8da29e8d0819"
      },
      "execution_count": 35,
      "outputs": [
        {
          "output_type": "stream",
          "name": "stdout",
          "text": [
            "It is a :smiling_face_with_sunglasses:\n"
          ]
        }
      ]
    },
    {
      "cell_type": "code",
      "source": [
        "demojized_text = emoji.demojize('It is an 👀')\n",
        "print(demojized_text)"
      ],
      "metadata": {
        "colab": {
          "base_uri": "https://localhost:8080/"
        },
        "id": "8yqXdopvBy91",
        "outputId": "c73b5c00-b418-48c3-d4ec-fc776cca672b"
      },
      "execution_count": 37,
      "outputs": [
        {
          "output_type": "stream",
          "name": "stdout",
          "text": [
            "It is an :eyes:\n"
          ]
        }
      ]
    },
    {
      "cell_type": "code",
      "source": [
        "demojized_text = emoji.demojize('It is a 🫢')\n",
        "print(demojized_text)"
      ],
      "metadata": {
        "colab": {
          "base_uri": "https://localhost:8080/"
        },
        "id": "QoE-5X9-B850",
        "outputId": "c571a136-ecf0-4b45-f774-fb279b1a5d77"
      },
      "execution_count": 38,
      "outputs": [
        {
          "output_type": "stream",
          "name": "stdout",
          "text": [
            "It is a :face_with_open_eyes_and_hand_over_mouth:\n"
          ]
        }
      ]
    },
    {
      "cell_type": "code",
      "source": [
        "demojized_text = emoji.demojize('It is a 😂')\n",
        "print(demojized_text)"
      ],
      "metadata": {
        "colab": {
          "base_uri": "https://localhost:8080/"
        },
        "id": "8QHmDG9hDxLw",
        "outputId": "82e84c58-6301-481d-a80b-cc9645d04df9"
      },
      "execution_count": 39,
      "outputs": [
        {
          "output_type": "stream",
          "name": "stdout",
          "text": [
            "It is a :face_with_tears_of_joy:\n"
          ]
        }
      ]
    },
    {
      "cell_type": "code",
      "source": [
        "demojized_text = emoji.demojize('It is a 😌')\n",
        "print(demojized_text)"
      ],
      "metadata": {
        "colab": {
          "base_uri": "https://localhost:8080/"
        },
        "id": "tGoaokumD3XD",
        "outputId": "39652c3e-85d2-42ec-ba03-0d786d009f0e"
      },
      "execution_count": 40,
      "outputs": [
        {
          "output_type": "stream",
          "name": "stdout",
          "text": [
            "It is a :relieved_face:\n"
          ]
        }
      ]
    },
    {
      "cell_type": "code",
      "source": [
        "demojized_text = emoji.demojize('It is a 🚨')\n",
        "print(demojized_text)"
      ],
      "metadata": {
        "colab": {
          "base_uri": "https://localhost:8080/"
        },
        "id": "Rhj5gw9cD8JL",
        "outputId": "73758817-011e-42b0-c37b-a6280426281c"
      },
      "execution_count": 41,
      "outputs": [
        {
          "output_type": "stream",
          "name": "stdout",
          "text": [
            "It is a :police_car_light:\n"
          ]
        }
      ]
    },
    {
      "cell_type": "code",
      "source": [
        "demojized_text = emoji.demojize('It is a 🗿')\n",
        "print(demojized_text)"
      ],
      "metadata": {
        "colab": {
          "base_uri": "https://localhost:8080/"
        },
        "id": "Am7MXV9QEEbY",
        "outputId": "be87b908-ce1d-4841-cd28-aefa91bb45d9"
      },
      "execution_count": 42,
      "outputs": [
        {
          "output_type": "stream",
          "name": "stdout",
          "text": [
            "It is a :moai:\n"
          ]
        }
      ]
    },
    {
      "cell_type": "code",
      "source": [
        "demojized_text = emoji.demojize('It is a 🎀')\n",
        "print(demojized_text)"
      ],
      "metadata": {
        "colab": {
          "base_uri": "https://localhost:8080/"
        },
        "id": "DaycMVs5EJi_",
        "outputId": "9a86624c-ee0c-4f54-9d09-9b2fa8121b52"
      },
      "execution_count": 43,
      "outputs": [
        {
          "output_type": "stream",
          "name": "stdout",
          "text": [
            "It is a :ribbon:\n"
          ]
        }
      ]
    },
    {
      "cell_type": "code",
      "source": [
        "demojized_text = emoji.demojize('It is a 📍')\n",
        "print(demojized_text)"
      ],
      "metadata": {
        "colab": {
          "base_uri": "https://localhost:8080/"
        },
        "id": "9xIwn05kEN9E",
        "outputId": "5c0b8bda-c463-4674-a340-0a4981f265c1"
      },
      "execution_count": 44,
      "outputs": [
        {
          "output_type": "stream",
          "name": "stdout",
          "text": [
            "It is a :round_pushpin:\n"
          ]
        }
      ]
    },
    {
      "cell_type": "code",
      "source": [
        "demojized_text = emoji.demojize('It is a ❤️‍🔥')\n",
        "print(demojized_text)"
      ],
      "metadata": {
        "colab": {
          "base_uri": "https://localhost:8080/"
        },
        "id": "Ynxao7xFEtkK",
        "outputId": "37da2d27-9103-4c83-f0a0-6518cbbd5347"
      },
      "execution_count": 45,
      "outputs": [
        {
          "output_type": "stream",
          "name": "stdout",
          "text": [
            "It is a :heart_on_fire:\n"
          ]
        }
      ]
    },
    {
      "cell_type": "code",
      "source": [
        "demojized_text = emoji.demojize('It is a 👍')\n",
        "print(demojized_text)"
      ],
      "metadata": {
        "colab": {
          "base_uri": "https://localhost:8080/"
        },
        "id": "1WKvCe54Ezsx",
        "outputId": "c54e6658-f2df-4620-ff6b-e73502196f7f"
      },
      "execution_count": 46,
      "outputs": [
        {
          "output_type": "stream",
          "name": "stdout",
          "text": [
            "It is a :thumbs_up:\n"
          ]
        }
      ]
    },
    {
      "cell_type": "code",
      "source": [
        "demojized_text = emoji.demojize('It is a 😴')\n",
        "print(demojized_text)"
      ],
      "metadata": {
        "colab": {
          "base_uri": "https://localhost:8080/"
        },
        "id": "JTuEnaRyFEbd",
        "outputId": "c806a826-9d46-43cc-eb61-c13337f39c01"
      },
      "execution_count": 47,
      "outputs": [
        {
          "output_type": "stream",
          "name": "stdout",
          "text": [
            "It is a :sleeping_face:\n"
          ]
        }
      ]
    },
    {
      "cell_type": "code",
      "source": [
        "demojized_text = emoji.demojize('It is a 😋')\n",
        "print(demojized_text)"
      ],
      "metadata": {
        "colab": {
          "base_uri": "https://localhost:8080/"
        },
        "id": "TpFsomLmFH-k",
        "outputId": "042b0d68-6976-4027-ca64-a36aa279b080"
      },
      "execution_count": 48,
      "outputs": [
        {
          "output_type": "stream",
          "name": "stdout",
          "text": [
            "It is a :face_savoring_food:\n"
          ]
        }
      ]
    },
    {
      "cell_type": "code",
      "source": [
        "demojized_text = emoji.demojize('It is a 🤓')\n",
        "print(demojized_text)"
      ],
      "metadata": {
        "colab": {
          "base_uri": "https://localhost:8080/"
        },
        "id": "dGkSh6tPFMLj",
        "outputId": "a265ec17-149d-4f3d-ce19-92c84786bb21"
      },
      "execution_count": 49,
      "outputs": [
        {
          "output_type": "stream",
          "name": "stdout",
          "text": [
            "It is a :nerd_face:\n"
          ]
        }
      ]
    },
    {
      "cell_type": "code",
      "source": [
        "demojized_text = emoji.demojize('It is a 🥳')\n",
        "print(demojized_text)"
      ],
      "metadata": {
        "colab": {
          "base_uri": "https://localhost:8080/"
        },
        "id": "bRdF1nHNIhuT",
        "outputId": "76fe6010-08df-4f5b-a027-5de5c0246218"
      },
      "execution_count": 50,
      "outputs": [
        {
          "output_type": "stream",
          "name": "stdout",
          "text": [
            "It is a :partying_face:\n"
          ]
        }
      ]
    },
    {
      "cell_type": "code",
      "source": [
        "demojized_text = emoji.demojize('It is a ☠️')\n",
        "print(demojized_text)"
      ],
      "metadata": {
        "colab": {
          "base_uri": "https://localhost:8080/"
        },
        "id": "AKaWFWs1Ikec",
        "outputId": "2bca7341-858d-48c2-ce6e-216fa8930693"
      },
      "execution_count": 51,
      "outputs": [
        {
          "output_type": "stream",
          "name": "stdout",
          "text": [
            "It is a :skull_and_crossbones:\n"
          ]
        }
      ]
    },
    {
      "cell_type": "code",
      "source": [
        "demojized_text = emoji.demojize('It is a 🧐')\n",
        "print(demojized_text)"
      ],
      "metadata": {
        "colab": {
          "base_uri": "https://localhost:8080/"
        },
        "id": "j2G1XXi6Ph25",
        "outputId": "be3dad83-bff7-42a6-d079-397ff4bf719e"
      },
      "execution_count": 52,
      "outputs": [
        {
          "output_type": "stream",
          "name": "stdout",
          "text": [
            "It is a :face_with_monocle:\n"
          ]
        }
      ]
    },
    {
      "cell_type": "code",
      "source": [
        "demojized_text = emoji.demojize('It is a 🤩')\n",
        "print(demojized_text)"
      ],
      "metadata": {
        "colab": {
          "base_uri": "https://localhost:8080/"
        },
        "id": "B5KMPtIBPpim",
        "outputId": "87889eef-2c6a-40c7-ba4d-21388db106a9"
      },
      "execution_count": 53,
      "outputs": [
        {
          "output_type": "stream",
          "name": "stdout",
          "text": [
            "It is a :star-struck:\n"
          ]
        }
      ]
    },
    {
      "cell_type": "code",
      "source": [
        "demojized_text = emoji.demojize('It is a 🙃')\n",
        "print(demojized_text)"
      ],
      "metadata": {
        "colab": {
          "base_uri": "https://localhost:8080/"
        },
        "id": "1DEB1S4uPsPV",
        "outputId": "ce97c8b1-381d-477e-ab54-79b8080b6a4f"
      },
      "execution_count": 54,
      "outputs": [
        {
          "output_type": "stream",
          "name": "stdout",
          "text": [
            "It is a :upside-down_face:\n"
          ]
        }
      ]
    },
    {
      "cell_type": "code",
      "source": [
        "demojized_text = emoji.demojize('It is a 🤨')\n",
        "print(demojized_text)"
      ],
      "metadata": {
        "colab": {
          "base_uri": "https://localhost:8080/"
        },
        "id": "mklGHvaSRI9B",
        "outputId": "b0df0deb-9832-40bf-b59c-7da21aaaab81"
      },
      "execution_count": 55,
      "outputs": [
        {
          "output_type": "stream",
          "name": "stdout",
          "text": [
            "It is a :face_with_raised_eyebrow:\n"
          ]
        }
      ]
    },
    {
      "cell_type": "code",
      "source": [
        "demojized_text = emoji.demojize('It is a 🫂')\n",
        "print(demojized_text)"
      ],
      "metadata": {
        "colab": {
          "base_uri": "https://localhost:8080/"
        },
        "id": "iioyUlsvRQ93",
        "outputId": "5b337541-ddbc-4b3d-cbc4-0dde4402b607"
      },
      "execution_count": 56,
      "outputs": [
        {
          "output_type": "stream",
          "name": "stdout",
          "text": [
            "It is a :people_hugging:\n"
          ]
        }
      ]
    }
  ]
}